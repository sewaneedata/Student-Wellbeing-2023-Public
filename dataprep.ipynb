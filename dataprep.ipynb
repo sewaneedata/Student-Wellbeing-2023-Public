{
 "cells": [
  {
   "cell_type": "code",
   "execution_count": null,
   "id": "59bbdb44",
   "metadata": {},
   "outputs": [],
   "source": [
    "import pandas as pd"
   ]
  },
  {
   "cell_type": "code",
   "execution_count": null,
   "id": "46c76ecb",
   "metadata": {},
   "outputs": [],
   "source": [
    "pd17 = pd.read_csv('HMS_Sewanee17-18.csv', on_bad_lines='skip')\n",
    "pd18 = pd.read_csv('HMS_Sewanee18-19.csv', on_bad_lines='skip')\n",
    "pd19 = pd.read_csv('HMS_Sewanee19-20.csv')\n",
    "pd20 = pd.read_csv('HMS_Sewanee20-21.csv', on_bad_lines='skip')\n",
    "pd22 = pd.read_csv('HMS_Sewanee22-23.csv')"
   ]
  },
  {
   "cell_type": "code",
   "execution_count": null,
   "id": "7438facb",
   "metadata": {},
   "outputs": [],
   "source": [
    "OS = pd.read_csv('SDF.csv')"
   ]
  },
  {
   "cell_type": "code",
   "execution_count": null,
   "id": "f37f9fbc",
   "metadata": {},
   "outputs": [],
   "source": [
    "OS['Total']=OS.apply(lambda row: row['Men']+ row['Women'], axis=1)"
   ]
  },
  {
   "cell_type": "code",
   "execution_count": null,
   "id": "5b1a6708",
   "metadata": {},
   "outputs": [],
   "source": [
    "def label_race (row):\n",
    "   if row['race_his'] == 1 :\n",
    "      return 'Hispanic/Latino'\n",
    "   if row['race_black'] + row['race_asian'] + row['race_ainaan'] + row['race_his'] + row['race_white']+ row['race_pi']+ row['race_mides']+ row['race_other'] > 1 :\n",
    "      return 'Two Or More'\n",
    "   if row['race_ainaan'] == 1 :\n",
    "      return 'Other'\n",
    "   if row['race_asian'] == 1:\n",
    "      return 'Asian'\n",
    "   if row['race_black']  == 1:\n",
    "      return 'Black/AA'\n",
    "   if row['race_pi'] == 1:\n",
    "      return 'Other'\n",
    "   if row['race_white'] == 1:\n",
    "      return 'White'\n",
    "   if row['race_mides'] == 1:\n",
    "      return 'Other'\n",
    "   if row['race_other']  == 1:\n",
    "      return 'Other'\n",
    "   return 'Other'"
   ]
  },
  {
   "cell_type": "code",
   "execution_count": null,
   "id": "17da5245",
   "metadata": {},
   "outputs": [],
   "source": [
    "pd22.rename(columns={\n",
    "    'alc_binge_female':'binge_fr_f',\n",
    "    'alc_binge_male':'binge_fr_m',\n",
    "    'alc_binge_othgen':'binge_fr_o'\n",
    "    \n",
    "}, inplace=True)"
   ]
  },
  {
   "cell_type": "code",
   "execution_count": null,
   "id": "9a3c36a0",
   "metadata": {},
   "outputs": [],
   "source": [
    "pd17[\"survey\"] = [2017] * pd17.shape[0]\n",
    "pd18[\"survey\"] = [2018] * pd18.shape[0]\n",
    "pd19[\"survey\"] = [2019] * pd19.shape[0]\n",
    "pd20[\"survey\"] = [2020] * pd20.shape[0]\n",
    "pd22[\"survey\"] = [2022] * pd22.shape[0]"
   ]
  },
  {
   "cell_type": "code",
   "execution_count": null,
   "id": "26aebf3a",
   "metadata": {},
   "outputs": [],
   "source": [
    "HMS=pd.concat([pd17, pd18, pd19, pd20, pd22])"
   ]
  },
  {
   "cell_type": "code",
   "execution_count": null,
   "id": "12dfee67",
   "metadata": {},
   "outputs": [],
   "source": [
    "HMS.fillna(0, inplace=True)"
   ]
  },
  {
   "cell_type": "code",
   "execution_count": null,
   "id": "7641434c",
   "metadata": {},
   "outputs": [],
   "source": [
    "HMS['race_black'].unique()"
   ]
  },
  {
   "cell_type": "code",
   "execution_count": null,
   "id": "62bd8a16",
   "metadata": {},
   "outputs": [],
   "source": [
    "HMS[\"race\"] = HMS.apply(label_race, axis=1)"
   ]
  },
  {
   "cell_type": "code",
   "execution_count": null,
   "id": "959bfd94",
   "metadata": {},
   "outputs": [],
   "source": [
    "HMS.fillna(0)"
   ]
  },
  {
   "cell_type": "code",
   "execution_count": null,
   "id": "7fde1e4c",
   "metadata": {},
   "outputs": [],
   "source": [
    "HMS.drop(columns=['bmi','StartDate','EndDate','RecordedDate', 'obese', \n",
    "                  'race_black','race_asian','race_ainaan','race_his','race_white','race_pi',\n",
    "                  'race_mides','race_other','hgt_inch','inter_n_6_text','meds_cur','customQ'], \n",
    "         inplace = True,\n",
    "         errors='ignore') \n"
   ]
  },
  {
   "cell_type": "code",
   "execution_count": null,
   "id": "13804c24",
   "metadata": {},
   "outputs": [],
   "source": [
    "HMS.describe()"
   ]
  },
  {
   "cell_type": "code",
   "execution_count": null,
   "id": "8dde2bed",
   "metadata": {},
   "outputs": [],
   "source": [
    "HMS.columns"
   ]
  },
  {
   "cell_type": "code",
   "execution_count": null,
   "id": "4de1e47c",
   "metadata": {},
   "outputs": [],
   "source": [
    "HMS[HMS['survey']==2017].shape[0]"
   ]
  },
  {
   "cell_type": "code",
   "execution_count": null,
   "id": "44b63ba0",
   "metadata": {},
   "outputs": [],
   "source": [
    "OS.loc[OS['Year']==2017,'Total'].item()"
   ]
  },
  {
   "cell_type": "code",
   "execution_count": null,
   "id": "888a48df",
   "metadata": {},
   "outputs": [],
   "source": [
    "(579/1778)*100 "
   ]
  },
  {
   "cell_type": "code",
   "execution_count": null,
   "id": "65ee07da",
   "metadata": {},
   "outputs": [],
   "source": [
    "OS['Percent Surveyed'] = OS.apply(lambda row: (HMS[HMS['survey']==row['Year']].shape[0]/row['Total'])*100, axis=1)"
   ]
  },
  {
   "cell_type": "code",
   "execution_count": null,
   "id": "b10d398b",
   "metadata": {},
   "outputs": [],
   "source": [
    "OS['International']"
   ]
  },
  {
   "cell_type": "code",
   "execution_count": null,
   "id": "b5ce239b",
   "metadata": {},
   "outputs": [],
   "source": [
    "OS.loc[OS['Year']==2017,'International'].item()"
   ]
  },
  {
   "cell_type": "code",
   "execution_count": null,
   "id": "82d7c969",
   "metadata": {},
   "outputs": [],
   "source": [
    "HMS[HMS['international']==1].shape[0]"
   ]
  },
  {
   "cell_type": "code",
   "execution_count": null,
   "id": "158da573",
   "metadata": {},
   "outputs": [],
   "source": [
    "num_cols=list(HMS._get_numeric_data().columns)\n",
    "num_cols"
   ]
  },
  {
   "cell_type": "code",
   "execution_count": null,
   "id": "6be20b75",
   "metadata": {},
   "outputs": [],
   "source": [
    "cat_cols=list(set(HMS.columns)-set(num_cols)) \n",
    "cat_cols"
   ]
  },
  {
   "cell_type": "code",
   "execution_count": null,
   "id": "70885884",
   "metadata": {},
   "outputs": [],
   "source": [
    "OS['Percent International'] = OS.apply(lambda row: (HMS[(HMS['international']==1) & (HMS['survey']==row['Year'])].shape[0]/row['International'])*100, axis=1)"
   ]
  },
  {
   "cell_type": "code",
   "execution_count": null,
   "id": "19923d08",
   "metadata": {},
   "outputs": [],
   "source": [
    "HMS\n"
   ]
  },
  {
   "cell_type": "code",
   "execution_count": null,
   "id": "c6ce15e9",
   "metadata": {},
   "outputs": [],
   "source": [
    "OS\n"
   ]
  },
  {
   "cell_type": "code",
   "execution_count": null,
   "id": "e41c73b8",
   "metadata": {},
   "outputs": [],
   "source": [
    "def label_international(w):\n",
    "    if w['international'] > 0:\n",
    "        return 'international'\n",
    "    else:\n",
    "        return 'permanent resident'"
   ]
  },
  {
   "cell_type": "code",
   "execution_count": null,
   "id": "9bf83999",
   "metadata": {},
   "outputs": [],
   "source": [
    "HMS['international']=  HMS.apply(label_international, axis=1)"
   ]
  },
  {
   "cell_type": "code",
   "execution_count": null,
   "id": "0c75d9c0",
   "metadata": {},
   "outputs": [],
   "source": [
    "def label_sexuality(x): \n",
    "     if x['sexual_l'] + x['sexual_h'] + x['sexual_g'] + x['sexual_bi'] + x['sexual_queer'] + x['sexual_quest'] + x['sexual_other'] > 1: \n",
    "        return 'LGBTQ'\n",
    "     if x['sexual_h']==1:\n",
    "        return 'Heterosexual'\n",
    "     else:\n",
    "        return'LGBTQ'"
   ]
  },
  {
   "cell_type": "code",
   "execution_count": null,
   "id": "3dc5fe77",
   "metadata": {},
   "outputs": [],
   "source": [
    "HMS[\"Sexual orientation\"] = HMS.apply(label_sexuality, axis=1)"
   ]
  },
  {
   "cell_type": "code",
   "execution_count": null,
   "id": "43fa3663",
   "metadata": {},
   "outputs": [],
   "source": [
    "def label_druguse(z):\n",
    "    if z['drug_mar']==1:\n",
    "        return'Marijuana'\n",
    "    if z['drug_mar'] + z['drug_coc'] + z['drug_her'] + z['drug_met'] + z['drug_ect'] + z['drug_stim'] +z['drug_opi']+ z['drug_other'] + z['drug_none']+ z['drug_benzo']+z['drug_keta']+z['drug_LSD']+z['drug_psilo']+z['drug_kratom']+z['drug_ath'] > 1: \n",
    "        return'Two or More' \n",
    "    if z['drug_coc']==1: \n",
    "        return'Cocaine' \n",
    "    if z['drug_her']==1: \n",
    "        return'Heroine' \n",
    "    if z['drug_met']==1: \n",
    "        return'Meth' \n",
    "    if z['drug_ect']==1: \n",
    "        return'Ecstasy' \n",
    "    if z['drug_stim']==1: \n",
    "        return'Stimulant' \n",
    "    if z['drug_opi']==1:\n",
    "        return'Opioid'\n",
    "    if z['drug_other']==1: \n",
    "        return'Other'\n",
    "    if z['drug_none']==1:\n",
    "        return'None' \n",
    "    if z['drug_benzo']==1:\n",
    "        return'benzo'\n",
    "    if z['drug_keta']==1:\n",
    "        return'ketamine'\n",
    "    if z['drug_LSD']==1:\n",
    "        return'LSD'\n",
    "    if z['drug_psilo']==1:\n",
    "        return'Psilocybin'\n",
    "    if z['drug_kratom']==1:\n",
    "        return'kratom'\n",
    "    if z['drug_ath']==1:\n",
    "        return'athletic performance enhancers'\n",
    "        \n",
    " "
   ]
  },
  {
   "cell_type": "code",
   "execution_count": null,
   "id": "87dc6906",
   "metadata": {},
   "outputs": [],
   "source": [
    "HMS[\"Druguse\"]= HMS.apply(label_druguse, axis=1)"
   ]
  },
  {
   "cell_type": "code",
   "execution_count": null,
   "id": "7d84c3ec",
   "metadata": {},
   "outputs": [],
   "source": [
    "def label_selfharm (s):\n",
    "    if s['sib_cut']+s['sib_burn']+s['sib_punch']+s['sib_scratch']+s['sib_pull']+s['sib_bit']+s['sib_wound'] +s['sib_carv']+s['sib_rub']+s['sib_pobj']+s['sib_other'] > 1:\n",
    "         return'Two Or More'\n",
    "    if s['sib_cut']==1:\n",
    "        return'cut myself' \n",
    "    if s['sib_burn']==1:\n",
    "        return'burn myself'\n",
    "    if s['sib_punch']==1:\n",
    "        return'punched or banged myself'\n",
    "    if s['sib_scratch']==1:\n",
    "        return'scratched myself'\n",
    "    if s['sib_pull']==1:\n",
    "        return'pulled my hair'\n",
    "    if s['sib_bit']==1:\n",
    "        return'bit myself'\n",
    "    if s['sib_wound']==1:\n",
    "        return'Interfered with wound healing'\n",
    "    if s['sib_carv']==1:\n",
    "        return'carved words or symbols into my skin'\n",
    "    if s['sib_rub']==1:\n",
    "        return'rubbed sharp objects into my skin'\n",
    "    if s['sib_pobj']==1:\n",
    "        return'punched or banged an object to hurt myself'\n",
    "    if s['sib_other']==1:\n",
    "        return'other'\n",
    "        \n",
    "        "
   ]
  },
  {
   "cell_type": "code",
   "execution_count": null,
   "id": "a86b33e6",
   "metadata": {},
   "outputs": [],
   "source": [
    "HMS[\"self injury\"]=HMS.apply(label_selfharm, axis=1)"
   ]
  },
  {
   "cell_type": "code",
   "execution_count": null,
   "id": "1f87c97b",
   "metadata": {},
   "outputs": [],
   "source": [
    "def label_intentions (i):\n",
    "    if i['talk1_1']==1:\n",
    "        return'Professional clinician e.g., psychologist,counselor, or psychiatrist'\n",
    "    if i['talk1_2']==1:\n",
    "        return'Roommate'\n",
    "    if i['talk1_3']==1:\n",
    "        return'Friend/not roommate'\n",
    "    if i['talk1_4']==1:\n",
    "        return'significant other/romantic partner'\n",
    "    if i['talk1_5']==1:\n",
    "        return'Family member'\n",
    "    if i['talk1_6']==1:\n",
    "        return'Religious counselor or other religious contact'\n",
    "    if i['talk1_7']==1:\n",
    "        return'Support group'\n",
    "    if i['talk1_8']==1:\n",
    "        return'Other non-clinical source'\n",
    "    if i['talk1_9']==1:\n",
    "        return'No one'\n",
    "    if i['talk1_1']+i['talk1_2']+i['talk1_3']+i['talk1_4']+i['talk1_5']+i['talk1_6']+i['talk1_7']+i['talk1_8'] >1:\n",
    "        return'Two or More'"
   ]
  },
  {
   "cell_type": "code",
   "execution_count": null,
   "id": "32656c45",
   "metadata": {},
   "outputs": [],
   "source": [
    "HMS[\"HelpSeekingIntentions\"]= HMS.apply(label_intentions, axis=1)"
   ]
  },
  {
   "cell_type": "code",
   "execution_count": null,
   "id": "d36c5288",
   "metadata": {},
   "outputs": [],
   "source": [
    "HMS.rename(columns={'binge_fr_f': 'binge_female','binge_fr_m':'binge_male','binge_fr_o':'binge_other'}, inplace = True)"
   ]
  },
  {
   "cell_type": "code",
   "execution_count": null,
   "id": "2bb92c55",
   "metadata": {},
   "outputs": [],
   "source": [
    "OS['Percent Black'] = OS.apply(lambda row: (HMS[(HMS['race']=='Black/AA') & (HMS['survey']==row['Year'])].shape[0]/row['Black or African American'])*100, axis=1)"
   ]
  },
  {
   "cell_type": "code",
   "execution_count": null,
   "id": "631b0486",
   "metadata": {},
   "outputs": [],
   "source": [
    "OS['Percent White'] = OS.apply(lambda row: (HMS[(HMS['race']=='White') & (HMS['survey']==row['Year'])].shape[0]/row['White'])*100, axis=1)"
   ]
  },
  {
   "cell_type": "code",
   "execution_count": null,
   "id": "c16257d9",
   "metadata": {},
   "outputs": [],
   "source": [
    "OS['Percent of two or more races'] = OS.apply(lambda row: (HMS[(HMS['race']=='Two Or More') & (HMS['survey']==row['Year'])].shape[0]/row['Two or more races'])*100, axis=1)"
   ]
  },
  {
   "cell_type": "code",
   "execution_count": null,
   "id": "ea2e571f",
   "metadata": {},
   "outputs": [],
   "source": [
    "OS['Percent Asian'] = OS.apply(lambda row: (HMS[(HMS['race']=='Asian') & (HMS['survey']==row['Year'])].shape[0]/row['Asian'])*100, axis=1)"
   ]
  },
  {
   "cell_type": "code",
   "execution_count": null,
   "id": "59317cd6",
   "metadata": {},
   "outputs": [],
   "source": [
    "OS['Percent Hispanic/Latino'] = OS.apply(lambda row: (HMS[(HMS['race']=='Hispanic/Latino') & (HMS['survey']==row['Year'])].shape[0]/row['Hispanic/Latino'])*100, axis=1)"
   ]
  },
  {
   "cell_type": "code",
   "execution_count": null,
   "id": "d5a982d4",
   "metadata": {},
   "outputs": [],
   "source": [
    "(HMS[(HMS['race']=='Hispanic/Latino')])"
   ]
  },
  {
   "cell_type": "code",
   "execution_count": null,
   "id": "a65442fb",
   "metadata": {},
   "outputs": [],
   "source": [
    "HMS[\"race\"].unique()"
   ]
  },
  {
   "cell_type": "code",
   "execution_count": null,
   "id": "c3903627",
   "metadata": {},
   "outputs": [],
   "source": [
    "OS['Percent Native Hawaiian or other Pacific Islander'] = OS.apply(lambda row: (HMS[(HMS['race']=='Haw/Pac Isl.') & (HMS['survey']==row['Year'])].shape[0]/row['Native Hawaiian or other Pacific Islander'])*100, axis=1)"
   ]
  },
  {
   "cell_type": "code",
   "execution_count": null,
   "id": "2f5d4ca5",
   "metadata": {},
   "outputs": [],
   "source": [
    "OS['Percent American Indian or Alaska Native'] = OS.apply(lambda row: (HMS[(HMS['race']=='A/I AK Native') & (HMS['survey']==row['Year'])].shape[0]/row['American Indian or Alaska Native'])*100, axis=1)"
   ]
  },
  {
   "cell_type": "code",
   "execution_count": null,
   "id": "9d80f753",
   "metadata": {},
   "outputs": [],
   "source": [
    "(HMS[(HMS['race']=='Haw/Pac Isl.')])"
   ]
  },
  {
   "cell_type": "code",
   "execution_count": null,
   "id": "9755623e",
   "metadata": {},
   "outputs": [],
   "source": [
    "OS['Percent Other races'] = OS.apply(lambda row: (HMS[(HMS['race']=='Other') & (HMS['survey']==row['Year'])].shape[0]/row['Race or ethnicity unknown'])*100, axis=1)"
   ]
  },
  {
   "cell_type": "code",
   "execution_count": null,
   "id": "53b78449",
   "metadata": {},
   "outputs": [],
   "source": [
    "OS['Percent Male'] = OS.apply(lambda row: (HMS[(HMS['sex_birth']==2) & (HMS['survey']==row['Year'])].shape[0]/row['Men'])*100, axis=1)"
   ]
  },
  {
   "cell_type": "code",
   "execution_count": null,
   "id": "bb1f59ce",
   "metadata": {},
   "outputs": [],
   "source": [
    "OS['Percent Women'] = OS.apply(lambda row: (HMS[(HMS['sex_birth']==1) & (HMS['survey']==row['Year'])].shape[0]/row['Women'])*100, axis=1)"
   ]
  },
  {
   "cell_type": "code",
   "execution_count": null,
   "id": "fd630269",
   "metadata": {},
   "outputs": [],
   "source": [
    "OS"
   ]
  },
  {
   "cell_type": "code",
   "execution_count": null,
   "id": "c6207241",
   "metadata": {},
   "outputs": [],
   "source": [
    "OS.to_csv('SDF2.csv') \n"
   ]
  },
  {
   "cell_type": "code",
   "execution_count": null,
   "id": "a4e72b60",
   "metadata": {},
   "outputs": [],
   "source": [
    "HMS['Sexual orientation'].value_counts()"
   ]
  },
  {
   "cell_type": "code",
   "execution_count": null,
   "id": "ea5c7343",
   "metadata": {},
   "outputs": [],
   "source": [
    "HMS['age'].describe()"
   ]
  },
  {
   "cell_type": "code",
   "execution_count": null,
   "id": "eacd849c",
   "metadata": {},
   "outputs": [],
   "source": [
    "HMS['age']=HMS['age'].replace(120,20)"
   ]
  },
  {
   "cell_type": "code",
   "execution_count": null,
   "id": "411e874e",
   "metadata": {},
   "outputs": [],
   "source": [
    "HMS['age'].describe()"
   ]
  },
  {
   "cell_type": "code",
   "execution_count": null,
   "id": "c8513aa0",
   "metadata": {},
   "outputs": [],
   "source": [
    "HMS = HMS[HMS['degree_bach'] != 0]"
   ]
  },
  {
   "cell_type": "code",
   "execution_count": null,
   "id": "63c6df6a",
   "metadata": {},
   "outputs": [],
   "source": [
    "HMS['degree_bach'].describe()"
   ]
  },
  {
   "cell_type": "code",
   "execution_count": null,
   "id": "6a70dfd5",
   "metadata": {},
   "outputs": [],
   "source": [
    "HMS"
   ]
  },
  {
   "cell_type": "code",
   "execution_count": null,
   "id": "ae39d205",
   "metadata": {},
   "outputs": [],
   "source": [
    "def label_gender(g):\n",
    "    if g['gender']>0:\n",
    "        if g['gender']==1:\n",
    "            return 'Male'\n",
    "        if g['gender']==2:\n",
    "            return 'Female'\n",
    "        else:\n",
    "            return 'Other'\n",
    "    else:\n",
    "        if g['gender_male']+g['gender_female']+g['gender_transm']+g['gender_transf']+g['gender_queernc']+g['gender_nonbin']+g['gender_selfID']>1:\n",
    "            return 'Other'\n",
    "        if g['gender_male']==1:\n",
    "            return 'Male'\n",
    "        if g['gender_female']==1:\n",
    "            return 'Female'\n",
    "        else:\n",
    "            return 'Other'\n",
    "    "
   ]
  },
  {
   "cell_type": "code",
   "execution_count": null,
   "id": "4c7025dd",
   "metadata": {},
   "outputs": [],
   "source": [
    "HMS['GenderID']=HMS.apply(label_gender, axis=1)"
   ]
  },
  {
   "cell_type": "code",
   "execution_count": null,
   "id": "ae493268",
   "metadata": {},
   "outputs": [],
   "source": [
    "HMS"
   ]
  },
  {
   "cell_type": "code",
   "execution_count": null,
   "id": "31375c6b",
   "metadata": {},
   "outputs": [],
   "source": [
    "def label_agree2dis(x):\n",
    "    if x['knowwher']in[1,2,3]:\n",
    "        return 'Agree/Yes'\n",
    "    elif x['knowwher']in[0]:\n",
    "        return 'No response'\n",
    "    \n",
    "    else:\n",
    "        return 'Disagree/No'\n"
   ]
  },
  {
   "cell_type": "code",
   "execution_count": null,
   "id": "356379ea",
   "metadata": {},
   "outputs": [],
   "source": [
    "HMS[\"KnowledgeCampR\"]=HMS.apply(label_agree2dis, axis=1)"
   ]
  },
  {
   "cell_type": "code",
   "execution_count": null,
   "id": "70275b48",
   "metadata": {},
   "outputs": [],
   "source": [
    "# 22 'diener_score' was changed to 'flourish' as variable. This combines the two into one column \n",
    "# WHEN GRAPHING PLOTS DISMISS 0'S!!!!!\n",
    "HMS['diener_full_score'] = HMS['diener_score'] + HMS['flourish']\n",
    "\n",
    "HMS['diener_full_score']"
   ]
  },
  {
   "cell_type": "code",
   "execution_count": null,
   "id": "b4571efa",
   "metadata": {},
   "outputs": [],
   "source": [
    "HMS['talk_']= HMS.apply(lambda row:\n",
    "                         row['talk1_1']+\n",
    "                         row['talk1_2']+\n",
    "                         row['talk1_3']+\n",
    "                         row['talk1_4']+\n",
    "                         row['talk1_5']+\n",
    "                         row['talk1_6']+\n",
    "                         row['talk1_7']+\n",
    "                         row['talk1_8']+\n",
    "                         row['talk1_9'] > 0, axis = 1)"
   ]
  },
  {
   "cell_type": "code",
   "execution_count": null,
   "id": "1b156b7d",
   "metadata": {},
   "outputs": [],
   "source": [
    "HMS['belong_8_'] = HMS.apply(lambda row:\n",
    "                            row['belong8'] > 0, axis = 1)\n"
   ]
  },
  {
   "cell_type": "code",
   "execution_count": null,
   "id": "c035018b",
   "metadata": {},
   "outputs": [],
   "source": [
    "HMS['neg_group_belong'] = 6 - HMS['group_belong']\n"
   ]
  },
  {
   "cell_type": "code",
   "execution_count": null,
   "id": "7cf9c808",
   "metadata": {},
   "outputs": [],
   "source": [
    "def label_prob(p):\n",
    "    if p['alc_prob'] == 1 :\n",
    "        return 6\n",
    "    if p['alc_prob'] == 2 :\n",
    "        return 5\n",
    "    if p['alc_prob'] == 3 :\n",
    "        return 4\n",
    "    if p['alc_prob'] == 4 :\n",
    "        return 3\n",
    "    if p['alc_prob'] == 5 :\n",
    "        return 2\n",
    "    if p['alc_prob'] == 6 :\n",
    "        return 1"
   ]
  },
  {
   "cell_type": "code",
   "execution_count": null,
   "id": "f4aa8c5c",
   "metadata": {},
   "outputs": [],
   "source": [
    "HMS['neg_exp_belong'] = 6 - HMS['exp_belong']\n"
   ]
  },
  {
   "cell_type": "code",
   "execution_count": null,
   "id": "f838d5f9",
   "metadata": {},
   "outputs": [],
   "source": [
    "HMS[\"alc_prob2\"]= HMS.apply(label_prob, axis=1)"
   ]
  },
  {
   "cell_type": "code",
   "execution_count": null,
   "id": "65bf09d0",
   "metadata": {},
   "outputs": [],
   "source": [
    "HMS['neg_belong8'] = 6 - HMS['belong8']"
   ]
  },
  {
   "cell_type": "code",
   "execution_count": null,
   "id": "fdcc2038",
   "metadata": {},
   "outputs": [],
   "source": [
    "def smoke_frequency (s):\n",
    "    if s['smok_freq']==1:\n",
    "        return 0\n",
    "    if s['smok_freq']==2:\n",
    "        return 0.5\n",
    "    if s['smok_freq']==3:\n",
    "        return 2.5\n",
    "    if s['smok_freq']==4:\n",
    "        return 10\n",
    "    if s['smok_freq']==5:\n",
    "        return 20"
   ]
  },
  {
   "cell_type": "code",
   "execution_count": null,
   "id": "ef1d1417",
   "metadata": {},
   "outputs": [],
   "source": [
    "HMS['neg_belong_2'] = 6 - HMS['belong2']"
   ]
  },
  {
   "cell_type": "code",
   "execution_count": null,
   "id": "290d4675",
   "metadata": {},
   "outputs": [],
   "source": [
    "HMS[\"num_of_cig\"]= HMS.apply(smoke_frequency, axis=1)"
   ]
  },
  {
   "cell_type": "code",
   "execution_count": null,
   "id": "00d0a9f7",
   "metadata": {},
   "outputs": [],
   "source": [
    "HMS['neg_belong1'] = 6 - HMS['belong1']"
   ]
  },
  {
   "cell_type": "code",
   "execution_count": null,
   "id": "1e618998",
   "metadata": {},
   "outputs": [],
   "source": [
    "HMS['binge_d']=HMS['binge_female']+HMS['binge_male']+HMS['binge_other']"
   ]
  },
  {
   "cell_type": "code",
   "execution_count": null,
   "id": "3184b78e",
   "metadata": {},
   "outputs": [],
   "source": [
    "# drop don't know column\n",
    "HMS.drop(HMS[(HMS['binge_d']==7)].index, inplace=True)"
   ]
  },
  {
   "cell_type": "code",
   "execution_count": null,
   "id": "c53399eb",
   "metadata": {},
   "outputs": [],
   "source": [
    "def who_did (d):\n",
    "    if d['sa_who_st']==1:\n",
    "        return'Stranger'\n",
    "    if d['sa_who_fam']==1:\n",
    "        return'Family Member'\n",
    "    if d['sa_who_sh']==1:\n",
    "        return'Someone you had seen or heardabout but not talked to'\n",
    "    if d['sa_who_acq']==1:\n",
    "        return'An acquaintance'\n",
    "    if d['sa_who_prof']==1:\n",
    "        return'A professor or teaching assistant'\n",
    "    if d['sa_who_coach']==1:\n",
    "        return'Coach or coaching staff'\n",
    "    if d['sa_who_team']==1:\n",
    "        return'Teammate'\n",
    "    if d['sa_who_trainer']==1:\n",
    "        return'Trainer'\n",
    "    if d['sa_who_med']==1:\n",
    "        return'Medical or health professional'\n",
    "    if d['sa_who_fr']==1:\n",
    "        return'A current or ex friend or roomate'\n",
    "    if d['sa_who_part']==1:\n",
    "        return'A current or ex dating partner or spouse'\n",
    "    if d['sa_who_so']==1:\n",
    "        return'Someone else'\n",
    "    if d['sa_who_dk']==1:\n",
    "        return\"Unsure/don't know\"\n",
    "    if d['sa_who_ns']==1:\n",
    "        return'Prefer not to say'"
   ]
  },
  {
   "cell_type": "code",
   "execution_count": null,
   "id": "6ebc6b11",
   "metadata": {},
   "outputs": [],
   "source": [
    "HMS[\"sa_who\"]= HMS.apply(who_did, axis=1)"
   ]
  },
  {
   "cell_type": "code",
   "execution_count": null,
   "id": "410b5f00",
   "metadata": {},
   "outputs": [],
   "source": [
    "def who_told (w):\n",
    "    if w['sa_disclose_no']==1:\n",
    "        return'No One'\n",
    "    if w['sa_disclose_rm']==1:\n",
    "        return'Roommate'\n",
    "    if w['sa_disclose_fr']==1:\n",
    "        return 'Close friend'\n",
    "    if w['sa_disclose_fam']==1:\n",
    "        return'Other family member'\n",
    "    if w['sa_disclose_par']==1:\n",
    "        return'Parent or guardian'\n",
    "    if w['sa_disclose_coun']==1:\n",
    "        return'Counselor'\n",
    "    if w['sa_disclose_fs']==1:\n",
    "        return'Faculty or staff'\n",
    "    if w['sa_disclose_res']==1:\n",
    "        return'Residence hall staff'\n",
    "    if w['sa_disclose_cop']==1:\n",
    "        return'Police'\n",
    "    if w['sa_disclose_part']==1:\n",
    "        return'Romantic partner'\n",
    "    if w['sa_disclose_part']==1:\n",
    "        return'Romantic partner'\n",
    "    if w['sa_disclose_advo']==1:\n",
    "        return'Campus sexual assault advocate'\n",
    "    if w['sa_disclose_oth']==1:\n",
    "        return'Other' "
   ]
  },
  {
   "cell_type": "code",
   "execution_count": null,
   "id": "047041c4",
   "metadata": {},
   "outputs": [],
   "source": [
    "HMS[\"sa_disclose\"]= HMS.apply(who_told, axis=1)"
   ]
  },
  {
   "cell_type": "code",
   "execution_count": null,
   "id": "7e7dc65a",
   "metadata": {},
   "outputs": [],
   "source": [
    "#HMS.to_csv('HMS.csv')"
   ]
  },
  {
   "cell_type": "code",
   "execution_count": null,
   "id": "d4a07692",
   "metadata": {},
   "outputs": [],
   "source": [
    "private_cols = ['race','yr_sch','survey','Sexual orientation','international','GenderID','diener_full_score','deprawsc','anx_score','belong1','neg_belong1','belong2','neg_belong_2','belong8','neg_belong8','exp_belong', 'neg_exp_belong','group_belong','neg_group_belong','talk1_1','talk1_2','talk1_3','talk1_4','talk1_5','talk1_6','talk1_7','talk1_8','talk1_9','KnowledgeCampR','ther_ever','ther_cur','ther_vis','alc_any', 'alc_prob2','smok_freq','binge_d','alc_prob','assault_sex','sa_disclose','sa_who','sui_idea','sui_att']"
   ]
  },
  {
   "cell_type": "code",
   "execution_count": null,
   "id": "82a80d05",
   "metadata": {},
   "outputs": [],
   "source": [
    "HMS[private_cols].to_csv('HMS_Private.csv')"
   ]
  },
  {
   "cell_type": "code",
   "execution_count": null,
   "id": "ba645dd9",
   "metadata": {},
   "outputs": [],
   "source": [
    "public_cols = ['race','yr_sch','survey','Sexual orientation','international','GenderID','diener_full_score','deprawsc','anx_score','belong1','neg_belong1','belong2','neg_belong_2','belong_8_','belong8','neg_belong8','exp_belong','neg_exp_belong','group_belong','neg_group_belong','talk_','talk1_1','talk1_2','talk1_3','talk1_4','talk1_5','talk1_6','talk1_7','talk1_8','talk1_9','KnowledgeCampR','ther_ever','ther_cur','ther_vis']"
   ]
  },
  {
   "cell_type": "code",
   "execution_count": null,
   "id": "36c0ea23",
   "metadata": {},
   "outputs": [],
   "source": [
    "HMS[public_cols].to_csv('HMS_Public.csv')"
   ]
  }
 ],
 "metadata": {
  "kernelspec": {
   "display_name": "Python 3 (ipykernel)",
   "language": "python",
   "name": "python3"
  },
  "language_info": {
   "codemirror_mode": {
    "name": "ipython",
    "version": 3
   },
   "file_extension": ".py",
   "mimetype": "text/x-python",
   "name": "python",
   "nbconvert_exporter": "python",
   "pygments_lexer": "ipython3",
   "version": "3.9.13"
  }
 },
 "nbformat": 4,
 "nbformat_minor": 5
}
